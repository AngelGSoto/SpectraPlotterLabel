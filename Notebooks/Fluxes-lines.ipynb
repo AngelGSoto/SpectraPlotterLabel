{
 "cells": [
  {
   "cell_type": "code",
   "execution_count": 21,
   "id": "9120a722",
   "metadata": {},
   "outputs": [],
   "source": [
    "import numpy as np\n",
    "import matplotlib.pyplot as plt\n",
    "import seaborn as sns\n",
    "from astropy.io import fits\n",
    "import pandas as pd\n",
    "from astropy.table import Table, vstack"
   ]
  },
  {
   "cell_type": "code",
   "execution_count": 22,
   "id": "5df40f60",
   "metadata": {},
   "outputs": [],
   "source": [
    "# Open the FITS file\n",
    "hdul = fits.open('../n02n27_fluxes_NEAT.txt.fits')"
   ]
  },
  {
   "cell_type": "code",
   "execution_count": 23,
   "id": "77a1fb2d",
   "metadata": {},
   "outputs": [
    {
     "name": "stdout",
     "output_type": "stream",
     "text": [
      "Filename: ../n02n27_fluxes_NEAT.txt.fits\n",
      "No.    Name      Ver    Type      Cards   Dimensions   Format\n",
      "  0  PRIMARY       1 PrimaryHDU      11   ()      \n",
      "  1  LINES         1 BinTableHDU     51   15R x 18C   [1E, 1E, 1E, 1E, 1E, 1E, 16A, 16A, 16A, 16A, 1I, 1I, 1E, 1E, 1E, 1E, 1E, 1E]   \n",
      "  2  RESULTS       1 BinTableHDU     30   166R x 4C   [40A, 1E, 1E, 1E]   \n",
      "  3  QC            1 BinTableHDU     13   1R x 2C   [1L, 1L]   \n"
     ]
    }
   ],
   "source": [
    "# Print the information about the FITS file\n",
    "hdul.info()"
   ]
  },
  {
   "cell_type": "code",
   "execution_count": 24,
   "id": "66f4a89e",
   "metadata": {},
   "outputs": [],
   "source": [
    "# Access the data in the FITS file\n",
    "data = hdul[1].data"
   ]
  },
  {
   "cell_type": "code",
   "execution_count": 25,
   "id": "465b3c85",
   "metadata": {},
   "outputs": [
    {
     "data": {
      "text/plain": [
       "FITS_rec([(4340.47, 4340.47, 400.3462  , 38.218307 , 0., 0., '& H I', ' H5', ' 2p+ 2P*', ' 5d+ 2D', 8, 50,  42.2  ,  46.6  ,  37.3  , 0.00e+00, 0.00e+00, 0.00e+00),\n",
       "          (4363.21, 4363.21, 556.84406 , 48.758327 , 0., 0., '& [O III]', ' F2', ' 2p2 1D', ' 2p2 1S', 5,  1,   5.359,   5.97 ,   4.67 , 4.48e-05, 5.36e-05, 3.39e-05),\n",
       "          (4861.33, 4861.33, 119.45354 , 10.       , 0., 0., '& H I', ' H4', ' 2p+ 2P*', ' 4d+ 2D', 8, 32,  99.6  , 109.1  ,  89.1  , 0.00e+00, 0.00e+00, 0.00e+00),\n",
       "          (4958.91, 4958.91, 104.83084 , 11.507167 , 0., 0., '& [O III]', ' F1', ' 2p2 3P', ' 2p2 1D', 3,  5, 112.   , 123.   , 100.   , 4.44e-05, 5.29e-05, 3.39e-05),\n",
       "          (5006.84, 5006.84, 388.26437 , 34.48416  , 0., 0., '& [O III]', ' F1', ' 2p2 3P', ' 2p2 1D', 5,  5, 337.   , 370.   , 303.   , 4.43e-05, 5.36e-05, 3.26e-05),\n",
       "          (5875.66, 5875.66, 102.38622 , 11.221959 , 0., 0., '& He I', ' V11', ' 2p 3P*', ' 3d 3D', 9, 15,  10.3  ,  11.4  ,   9.1  , 8.10e-02, 9.00e-02, 7.10e-02),\n",
       "          (6562.77, 6562.77, 257.1968  , 31.620077 , 0., 0., '& H I', ' H3', ' 2p+ 2P*', ' 3d+ 2D', 8, 18, 270.   , 290.   , 250.   , 0.00e+00, 0.00e+00, 0.00e+00),\n",
       "          (6583.5 , 6583.5 ,  83.39406 ,  8.949916 , 0., 0., '& [N II]', ' F1', ' 2p2 3P', ' 2p2 1D', 5,  5,   7.59 ,   8.6  ,   6.42 , 7.33e-07, 8.79e-07, 5.51e-07),\n",
       "          (6678.16, 6678.16, 315.1406  , 29.592764 , 0., 0., '& He I', ' V46', ' 2p 1P*', ' 3d 1D', 3,  5,   2.486,   2.823,   2.097, 6.90e-02, 7.80e-02, 5.80e-02),\n",
       "          (6716.44, 6716.44, 192.17024 , 17.817022 , 0., 0., '& [S II]', ' F2', ' 2p3 4S*', ' 2p3 2D*', 4,  6,  14.9  ,  16.9  ,  12.5  , 2.89e-07, 3.44e-07, 2.22e-07),\n",
       "          (6730.82, 6730.82, 115.38574 , 11.50398  , 0., 0., '& [S II]', ' F2', ' 2p3 4S*', ' 2p3 2D*', 4,  4,   9.61 ,  10.93 ,   8.08 , 2.55e-07, 3.05e-07, 1.93e-07),\n",
       "          (7065.25, 7065.25, 247.42606 , 22.23268  , 0., 0., '& He I', ' V10', ' 2p 3P*', ' 3s 3S', 9,  3,   1.796,   2.07 ,   1.472, 6.90e-02, 8.20e-02, 5.60e-02),\n",
       "          (7135.8 , 7135.8 ,  63.957134,  6.9934635, 0., 0., '& [Ar III]', ' F1', ' 3p4 3P', ' 3p4 1D', 5,  5,   5.699,   6.677,   4.75 , 2.62e-07, 3.17e-07, 1.92e-07),\n",
       "          (7319.45, 7319.45, 273.1684  , 22.65213  , 0., 0., '& [O II]b', '', '', '', 0,  0,   1.792,   2.08 ,   1.449, 1.29e-05, 1.71e-05, 6.60e-06),\n",
       "          (7330.2 , 7330.2 , 154.42532 , 16.879877 , 0., 0., '& [O II]b', '', '', '', 0,  0,   1.333,   1.548,   1.076, 1.18e-05, 1.57e-05, 6.00e-06)],\n",
       "         dtype=(numpy.record, [('WlenObserved', '>f4'), ('WlenRest', '>f4'), ('Flux', '>f4'), ('Uncertainty', '>f4'), ('Peak', '>f4'), ('FWHM', '>f4'), ('Ion', 'S16'), ('Multiplet', 'S16'), ('LowerTerm', 'S16'), ('UpperTerm', 'S16'), ('g1', '>i2'), ('g2', '>i2'), ('DereddenedFlux', '>f4'), ('DereddenedFluxLo', '>f4'), ('DereddenedFluxHi', '>f4'), ('Abundance', '>f4'), ('AbundanceLow', '>f4'), ('AbundanceHigh', '>f4')]))"
      ]
     },
     "execution_count": 25,
     "metadata": {},
     "output_type": "execute_result"
    }
   ],
   "source": [
    "data"
   ]
  },
  {
   "cell_type": "code",
   "execution_count": 26,
   "id": "12ae64aa",
   "metadata": {},
   "outputs": [],
   "source": [
    "tab = Table(data)"
   ]
  },
  {
   "cell_type": "code",
   "execution_count": 27,
   "id": "ef0f0ea9",
   "metadata": {},
   "outputs": [
    {
     "data": {
      "text/html": [
       "<div><i>Table length=15</i>\n",
       "<table id=\"table140414609347152\" class=\"table-striped table-bordered table-condensed\">\n",
       "<thead><tr><th>WlenObserved</th><th>WlenRest</th><th>Flux</th><th>Uncertainty</th><th>Peak</th><th>FWHM</th><th>Ion</th><th>Multiplet</th><th>LowerTerm</th><th>UpperTerm</th><th>g1</th><th>g2</th><th>DereddenedFlux</th><th>DereddenedFluxLo</th><th>DereddenedFluxHi</th><th>Abundance</th><th>AbundanceLow</th><th>AbundanceHigh</th></tr></thead>\n",
       "<thead><tr><th>float32</th><th>float32</th><th>float32</th><th>float32</th><th>float32</th><th>float32</th><th>str16</th><th>str16</th><th>str16</th><th>str16</th><th>int16</th><th>int16</th><th>float32</th><th>float32</th><th>float32</th><th>float32</th><th>float32</th><th>float32</th></tr></thead>\n",
       "<tr><td>4340.47</td><td>4340.47</td><td>400.3462</td><td>38.218307</td><td>0.0</td><td>0.0</td><td>&amp; H I</td><td>H5</td><td>2p+ 2P*</td><td>5d+ 2D</td><td>8</td><td>50</td><td>42.2</td><td>46.6</td><td>37.3</td><td>0.0</td><td>0.0</td><td>0.0</td></tr>\n",
       "<tr><td>4363.21</td><td>4363.21</td><td>556.84406</td><td>48.758327</td><td>0.0</td><td>0.0</td><td>&amp; [O III]</td><td>F2</td><td>2p2 1D</td><td>2p2 1S</td><td>5</td><td>1</td><td>5.359</td><td>5.97</td><td>4.67</td><td>4.48e-05</td><td>5.36e-05</td><td>3.39e-05</td></tr>\n",
       "<tr><td>4861.33</td><td>4861.33</td><td>119.45354</td><td>10.0</td><td>0.0</td><td>0.0</td><td>&amp; H I</td><td>H4</td><td>2p+ 2P*</td><td>4d+ 2D</td><td>8</td><td>32</td><td>99.6</td><td>109.1</td><td>89.1</td><td>0.0</td><td>0.0</td><td>0.0</td></tr>\n",
       "<tr><td>4958.91</td><td>4958.91</td><td>104.83084</td><td>11.507167</td><td>0.0</td><td>0.0</td><td>&amp; [O III]</td><td>F1</td><td>2p2 3P</td><td>2p2 1D</td><td>3</td><td>5</td><td>112.0</td><td>123.0</td><td>100.0</td><td>4.44e-05</td><td>5.29e-05</td><td>3.39e-05</td></tr>\n",
       "<tr><td>5006.84</td><td>5006.84</td><td>388.26437</td><td>34.48416</td><td>0.0</td><td>0.0</td><td>&amp; [O III]</td><td>F1</td><td>2p2 3P</td><td>2p2 1D</td><td>5</td><td>5</td><td>337.0</td><td>370.0</td><td>303.0</td><td>4.43e-05</td><td>5.36e-05</td><td>3.26e-05</td></tr>\n",
       "<tr><td>5875.66</td><td>5875.66</td><td>102.38622</td><td>11.221959</td><td>0.0</td><td>0.0</td><td>&amp; He I</td><td>V11</td><td>2p 3P*</td><td>3d 3D</td><td>9</td><td>15</td><td>10.3</td><td>11.4</td><td>9.1</td><td>0.081</td><td>0.09</td><td>0.071</td></tr>\n",
       "<tr><td>6562.77</td><td>6562.77</td><td>257.1968</td><td>31.620077</td><td>0.0</td><td>0.0</td><td>&amp; H I</td><td>H3</td><td>2p+ 2P*</td><td>3d+ 2D</td><td>8</td><td>18</td><td>270.0</td><td>290.0</td><td>250.0</td><td>0.0</td><td>0.0</td><td>0.0</td></tr>\n",
       "<tr><td>6583.5</td><td>6583.5</td><td>83.39406</td><td>8.949916</td><td>0.0</td><td>0.0</td><td>&amp; [N II]</td><td>F1</td><td>2p2 3P</td><td>2p2 1D</td><td>5</td><td>5</td><td>7.59</td><td>8.6</td><td>6.42</td><td>7.33e-07</td><td>8.79e-07</td><td>5.51e-07</td></tr>\n",
       "<tr><td>6678.16</td><td>6678.16</td><td>315.1406</td><td>29.592764</td><td>0.0</td><td>0.0</td><td>&amp; He I</td><td>V46</td><td>2p 1P*</td><td>3d 1D</td><td>3</td><td>5</td><td>2.486</td><td>2.823</td><td>2.097</td><td>0.069</td><td>0.078</td><td>0.058</td></tr>\n",
       "<tr><td>6716.44</td><td>6716.44</td><td>192.17024</td><td>17.817022</td><td>0.0</td><td>0.0</td><td>&amp; [S II]</td><td>F2</td><td>2p3 4S*</td><td>2p3 2D*</td><td>4</td><td>6</td><td>14.9</td><td>16.9</td><td>12.5</td><td>2.89e-07</td><td>3.44e-07</td><td>2.22e-07</td></tr>\n",
       "<tr><td>6730.82</td><td>6730.82</td><td>115.38574</td><td>11.50398</td><td>0.0</td><td>0.0</td><td>&amp; [S II]</td><td>F2</td><td>2p3 4S*</td><td>2p3 2D*</td><td>4</td><td>4</td><td>9.61</td><td>10.93</td><td>8.08</td><td>2.55e-07</td><td>3.05e-07</td><td>1.93e-07</td></tr>\n",
       "<tr><td>7065.25</td><td>7065.25</td><td>247.42606</td><td>22.23268</td><td>0.0</td><td>0.0</td><td>&amp; He I</td><td>V10</td><td>2p 3P*</td><td>3s 3S</td><td>9</td><td>3</td><td>1.796</td><td>2.07</td><td>1.472</td><td>0.069</td><td>0.082</td><td>0.056</td></tr>\n",
       "<tr><td>7135.8</td><td>7135.8</td><td>63.957134</td><td>6.9934635</td><td>0.0</td><td>0.0</td><td>&amp; [Ar III]</td><td>F1</td><td>3p4 3P</td><td>3p4 1D</td><td>5</td><td>5</td><td>5.699</td><td>6.677</td><td>4.75</td><td>2.62e-07</td><td>3.17e-07</td><td>1.92e-07</td></tr>\n",
       "<tr><td>7319.45</td><td>7319.45</td><td>273.1684</td><td>22.65213</td><td>0.0</td><td>0.0</td><td>&amp; [O II]b</td><td></td><td></td><td></td><td>0</td><td>0</td><td>1.792</td><td>2.08</td><td>1.449</td><td>1.29e-05</td><td>1.71e-05</td><td>6.6e-06</td></tr>\n",
       "<tr><td>7330.2</td><td>7330.2</td><td>154.42532</td><td>16.879877</td><td>0.0</td><td>0.0</td><td>&amp; [O II]b</td><td></td><td></td><td></td><td>0</td><td>0</td><td>1.333</td><td>1.548</td><td>1.076</td><td>1.18e-05</td><td>1.57e-05</td><td>6e-06</td></tr>\n",
       "</table></div>"
      ],
      "text/plain": [
       "<Table length=15>\n",
       "WlenObserved WlenRest    Flux   Uncertainty   Peak    FWHM        Ion           Multiplet     ...   g1    g2  DereddenedFlux DereddenedFluxLo DereddenedFluxHi Abundance AbundanceLow AbundanceHigh\n",
       "  float32    float32   float32    float32   float32 float32      str16            str16       ... int16 int16    float32         float32          float32       float32    float32       float32   \n",
       "------------ -------- --------- ----------- ------- ------- ---------------- ---------------- ... ----- ----- -------------- ---------------- ---------------- --------- ------------ -------------\n",
       "     4340.47  4340.47  400.3462   38.218307     0.0     0.0 & H I             H5              ...     8    50           42.2             46.6             37.3       0.0          0.0           0.0\n",
       "     4363.21  4363.21 556.84406   48.758327     0.0     0.0 & [O III]         F2              ...     5     1          5.359             5.97             4.67  4.48e-05     5.36e-05      3.39e-05\n",
       "     4861.33  4861.33 119.45354        10.0     0.0     0.0 & H I             H4              ...     8    32           99.6            109.1             89.1       0.0          0.0           0.0\n",
       "     4958.91  4958.91 104.83084   11.507167     0.0     0.0 & [O III]         F1              ...     3     5          112.0            123.0            100.0  4.44e-05     5.29e-05      3.39e-05\n",
       "     5006.84  5006.84 388.26437    34.48416     0.0     0.0 & [O III]         F1              ...     5     5          337.0            370.0            303.0  4.43e-05     5.36e-05      3.26e-05\n",
       "     5875.66  5875.66 102.38622   11.221959     0.0     0.0 & He I            V11             ...     9    15           10.3             11.4              9.1     0.081         0.09         0.071\n",
       "     6562.77  6562.77  257.1968   31.620077     0.0     0.0 & H I             H3              ...     8    18          270.0            290.0            250.0       0.0          0.0           0.0\n",
       "      6583.5   6583.5  83.39406    8.949916     0.0     0.0 & [N II]          F1              ...     5     5           7.59              8.6             6.42  7.33e-07     8.79e-07      5.51e-07\n",
       "     6678.16  6678.16  315.1406   29.592764     0.0     0.0 & He I            V46             ...     3     5          2.486            2.823            2.097     0.069        0.078         0.058\n",
       "     6716.44  6716.44 192.17024   17.817022     0.0     0.0 & [S II]          F2              ...     4     6           14.9             16.9             12.5  2.89e-07     3.44e-07      2.22e-07\n",
       "     6730.82  6730.82 115.38574    11.50398     0.0     0.0 & [S II]          F2              ...     4     4           9.61            10.93             8.08  2.55e-07     3.05e-07      1.93e-07\n",
       "     7065.25  7065.25 247.42606    22.23268     0.0     0.0 & He I            V10             ...     9     3          1.796             2.07            1.472     0.069        0.082         0.056\n",
       "      7135.8   7135.8 63.957134   6.9934635     0.0     0.0 & [Ar III]        F1              ...     5     5          5.699            6.677             4.75  2.62e-07     3.17e-07      1.92e-07\n",
       "     7319.45  7319.45  273.1684    22.65213     0.0     0.0 & [O II]b                         ...     0     0          1.792             2.08            1.449  1.29e-05     1.71e-05       6.6e-06\n",
       "      7330.2   7330.2 154.42532   16.879877     0.0     0.0 & [O II]b                         ...     0     0          1.333            1.548            1.076  1.18e-05     1.57e-05         6e-06"
      ]
     },
     "execution_count": 27,
     "metadata": {},
     "output_type": "execute_result"
    }
   ],
   "source": [
    "tab"
   ]
  },
  {
   "cell_type": "code",
   "execution_count": 28,
   "id": "1933df16",
   "metadata": {},
   "outputs": [],
   "source": [
    "# Rename a column\n",
    "tab.rename_column('Ion', 'Ionnnnnnnn')\n"
   ]
  },
  {
   "cell_type": "code",
   "execution_count": 29,
   "id": "9f9a1ea2",
   "metadata": {},
   "outputs": [
    {
     "data": {
      "text/html": [
       "<div><i>Table length=15</i>\n",
       "<table id=\"table140414609347152\" class=\"table-striped table-bordered table-condensed\">\n",
       "<thead><tr><th>WlenObserved</th><th>WlenRest</th><th>Flux</th><th>Uncertainty</th><th>Peak</th><th>FWHM</th><th>Ionnnnnnnn</th><th>Multiplet</th><th>LowerTerm</th><th>UpperTerm</th><th>g1</th><th>g2</th><th>DereddenedFlux</th><th>DereddenedFluxLo</th><th>DereddenedFluxHi</th><th>Abundance</th><th>AbundanceLow</th><th>AbundanceHigh</th></tr></thead>\n",
       "<thead><tr><th>float32</th><th>float32</th><th>float32</th><th>float32</th><th>float32</th><th>float32</th><th>str16</th><th>str16</th><th>str16</th><th>str16</th><th>int16</th><th>int16</th><th>float32</th><th>float32</th><th>float32</th><th>float32</th><th>float32</th><th>float32</th></tr></thead>\n",
       "<tr><td>4340.47</td><td>4340.47</td><td>400.3462</td><td>38.218307</td><td>0.0</td><td>0.0</td><td>&amp; H I</td><td>H5</td><td>2p+ 2P*</td><td>5d+ 2D</td><td>8</td><td>50</td><td>42.2</td><td>46.6</td><td>37.3</td><td>0.0</td><td>0.0</td><td>0.0</td></tr>\n",
       "<tr><td>4363.21</td><td>4363.21</td><td>556.84406</td><td>48.758327</td><td>0.0</td><td>0.0</td><td>&amp; [O III]</td><td>F2</td><td>2p2 1D</td><td>2p2 1S</td><td>5</td><td>1</td><td>5.359</td><td>5.97</td><td>4.67</td><td>4.48e-05</td><td>5.36e-05</td><td>3.39e-05</td></tr>\n",
       "<tr><td>4861.33</td><td>4861.33</td><td>119.45354</td><td>10.0</td><td>0.0</td><td>0.0</td><td>&amp; H I</td><td>H4</td><td>2p+ 2P*</td><td>4d+ 2D</td><td>8</td><td>32</td><td>99.6</td><td>109.1</td><td>89.1</td><td>0.0</td><td>0.0</td><td>0.0</td></tr>\n",
       "<tr><td>4958.91</td><td>4958.91</td><td>104.83084</td><td>11.507167</td><td>0.0</td><td>0.0</td><td>&amp; [O III]</td><td>F1</td><td>2p2 3P</td><td>2p2 1D</td><td>3</td><td>5</td><td>112.0</td><td>123.0</td><td>100.0</td><td>4.44e-05</td><td>5.29e-05</td><td>3.39e-05</td></tr>\n",
       "<tr><td>5006.84</td><td>5006.84</td><td>388.26437</td><td>34.48416</td><td>0.0</td><td>0.0</td><td>&amp; [O III]</td><td>F1</td><td>2p2 3P</td><td>2p2 1D</td><td>5</td><td>5</td><td>337.0</td><td>370.0</td><td>303.0</td><td>4.43e-05</td><td>5.36e-05</td><td>3.26e-05</td></tr>\n",
       "<tr><td>5875.66</td><td>5875.66</td><td>102.38622</td><td>11.221959</td><td>0.0</td><td>0.0</td><td>&amp; He I</td><td>V11</td><td>2p 3P*</td><td>3d 3D</td><td>9</td><td>15</td><td>10.3</td><td>11.4</td><td>9.1</td><td>0.081</td><td>0.09</td><td>0.071</td></tr>\n",
       "<tr><td>6562.77</td><td>6562.77</td><td>257.1968</td><td>31.620077</td><td>0.0</td><td>0.0</td><td>&amp; H I</td><td>H3</td><td>2p+ 2P*</td><td>3d+ 2D</td><td>8</td><td>18</td><td>270.0</td><td>290.0</td><td>250.0</td><td>0.0</td><td>0.0</td><td>0.0</td></tr>\n",
       "<tr><td>6583.5</td><td>6583.5</td><td>83.39406</td><td>8.949916</td><td>0.0</td><td>0.0</td><td>&amp; [N II]</td><td>F1</td><td>2p2 3P</td><td>2p2 1D</td><td>5</td><td>5</td><td>7.59</td><td>8.6</td><td>6.42</td><td>7.33e-07</td><td>8.79e-07</td><td>5.51e-07</td></tr>\n",
       "<tr><td>6678.16</td><td>6678.16</td><td>315.1406</td><td>29.592764</td><td>0.0</td><td>0.0</td><td>&amp; He I</td><td>V46</td><td>2p 1P*</td><td>3d 1D</td><td>3</td><td>5</td><td>2.486</td><td>2.823</td><td>2.097</td><td>0.069</td><td>0.078</td><td>0.058</td></tr>\n",
       "<tr><td>6716.44</td><td>6716.44</td><td>192.17024</td><td>17.817022</td><td>0.0</td><td>0.0</td><td>&amp; [S II]</td><td>F2</td><td>2p3 4S*</td><td>2p3 2D*</td><td>4</td><td>6</td><td>14.9</td><td>16.9</td><td>12.5</td><td>2.89e-07</td><td>3.44e-07</td><td>2.22e-07</td></tr>\n",
       "<tr><td>6730.82</td><td>6730.82</td><td>115.38574</td><td>11.50398</td><td>0.0</td><td>0.0</td><td>&amp; [S II]</td><td>F2</td><td>2p3 4S*</td><td>2p3 2D*</td><td>4</td><td>4</td><td>9.61</td><td>10.93</td><td>8.08</td><td>2.55e-07</td><td>3.05e-07</td><td>1.93e-07</td></tr>\n",
       "<tr><td>7065.25</td><td>7065.25</td><td>247.42606</td><td>22.23268</td><td>0.0</td><td>0.0</td><td>&amp; He I</td><td>V10</td><td>2p 3P*</td><td>3s 3S</td><td>9</td><td>3</td><td>1.796</td><td>2.07</td><td>1.472</td><td>0.069</td><td>0.082</td><td>0.056</td></tr>\n",
       "<tr><td>7135.8</td><td>7135.8</td><td>63.957134</td><td>6.9934635</td><td>0.0</td><td>0.0</td><td>&amp; [Ar III]</td><td>F1</td><td>3p4 3P</td><td>3p4 1D</td><td>5</td><td>5</td><td>5.699</td><td>6.677</td><td>4.75</td><td>2.62e-07</td><td>3.17e-07</td><td>1.92e-07</td></tr>\n",
       "<tr><td>7319.45</td><td>7319.45</td><td>273.1684</td><td>22.65213</td><td>0.0</td><td>0.0</td><td>&amp; [O II]b</td><td></td><td></td><td></td><td>0</td><td>0</td><td>1.792</td><td>2.08</td><td>1.449</td><td>1.29e-05</td><td>1.71e-05</td><td>6.6e-06</td></tr>\n",
       "<tr><td>7330.2</td><td>7330.2</td><td>154.42532</td><td>16.879877</td><td>0.0</td><td>0.0</td><td>&amp; [O II]b</td><td></td><td></td><td></td><td>0</td><td>0</td><td>1.333</td><td>1.548</td><td>1.076</td><td>1.18e-05</td><td>1.57e-05</td><td>6e-06</td></tr>\n",
       "</table></div>"
      ],
      "text/plain": [
       "<Table length=15>\n",
       "WlenObserved WlenRest    Flux   Uncertainty   Peak    FWHM     Ionnnnnnnn       Multiplet     ...   g1    g2  DereddenedFlux DereddenedFluxLo DereddenedFluxHi Abundance AbundanceLow AbundanceHigh\n",
       "  float32    float32   float32    float32   float32 float32      str16            str16       ... int16 int16    float32         float32          float32       float32    float32       float32   \n",
       "------------ -------- --------- ----------- ------- ------- ---------------- ---------------- ... ----- ----- -------------- ---------------- ---------------- --------- ------------ -------------\n",
       "     4340.47  4340.47  400.3462   38.218307     0.0     0.0 & H I             H5              ...     8    50           42.2             46.6             37.3       0.0          0.0           0.0\n",
       "     4363.21  4363.21 556.84406   48.758327     0.0     0.0 & [O III]         F2              ...     5     1          5.359             5.97             4.67  4.48e-05     5.36e-05      3.39e-05\n",
       "     4861.33  4861.33 119.45354        10.0     0.0     0.0 & H I             H4              ...     8    32           99.6            109.1             89.1       0.0          0.0           0.0\n",
       "     4958.91  4958.91 104.83084   11.507167     0.0     0.0 & [O III]         F1              ...     3     5          112.0            123.0            100.0  4.44e-05     5.29e-05      3.39e-05\n",
       "     5006.84  5006.84 388.26437    34.48416     0.0     0.0 & [O III]         F1              ...     5     5          337.0            370.0            303.0  4.43e-05     5.36e-05      3.26e-05\n",
       "     5875.66  5875.66 102.38622   11.221959     0.0     0.0 & He I            V11             ...     9    15           10.3             11.4              9.1     0.081         0.09         0.071\n",
       "     6562.77  6562.77  257.1968   31.620077     0.0     0.0 & H I             H3              ...     8    18          270.0            290.0            250.0       0.0          0.0           0.0\n",
       "      6583.5   6583.5  83.39406    8.949916     0.0     0.0 & [N II]          F1              ...     5     5           7.59              8.6             6.42  7.33e-07     8.79e-07      5.51e-07\n",
       "     6678.16  6678.16  315.1406   29.592764     0.0     0.0 & He I            V46             ...     3     5          2.486            2.823            2.097     0.069        0.078         0.058\n",
       "     6716.44  6716.44 192.17024   17.817022     0.0     0.0 & [S II]          F2              ...     4     6           14.9             16.9             12.5  2.89e-07     3.44e-07      2.22e-07\n",
       "     6730.82  6730.82 115.38574    11.50398     0.0     0.0 & [S II]          F2              ...     4     4           9.61            10.93             8.08  2.55e-07     3.05e-07      1.93e-07\n",
       "     7065.25  7065.25 247.42606    22.23268     0.0     0.0 & He I            V10             ...     9     3          1.796             2.07            1.472     0.069        0.082         0.056\n",
       "      7135.8   7135.8 63.957134   6.9934635     0.0     0.0 & [Ar III]        F1              ...     5     5          5.699            6.677             4.75  2.62e-07     3.17e-07      1.92e-07\n",
       "     7319.45  7319.45  273.1684    22.65213     0.0     0.0 & [O II]b                         ...     0     0          1.792             2.08            1.449  1.29e-05     1.71e-05       6.6e-06\n",
       "      7330.2   7330.2 154.42532   16.879877     0.0     0.0 & [O II]b                         ...     0     0          1.333            1.548            1.076  1.18e-05     1.57e-05         6e-06"
      ]
     },
     "execution_count": 29,
     "metadata": {},
     "output_type": "execute_result"
    }
   ],
   "source": [
    "tab"
   ]
  },
  {
   "cell_type": "code",
   "execution_count": null,
   "id": "0827dbc3",
   "metadata": {},
   "outputs": [],
   "source": []
  },
  {
   "cell_type": "code",
   "execution_count": null,
   "id": "49a2e5a5",
   "metadata": {},
   "outputs": [],
   "source": []
  },
  {
   "cell_type": "code",
   "execution_count": null,
   "id": "16f60f2e",
   "metadata": {},
   "outputs": [],
   "source": []
  }
 ],
 "metadata": {
  "kernelspec": {
   "display_name": "Python 3 (ipykernel)",
   "language": "python",
   "name": "python3"
  },
  "language_info": {
   "codemirror_mode": {
    "name": "ipython",
    "version": 3
   },
   "file_extension": ".py",
   "mimetype": "text/x-python",
   "name": "python",
   "nbconvert_exporter": "python",
   "pygments_lexer": "ipython3",
   "version": "3.9.7"
  }
 },
 "nbformat": 4,
 "nbformat_minor": 5
}
