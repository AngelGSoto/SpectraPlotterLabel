import numpy as np
import matplotlib.pyplot as plt
import seaborn as sns
from astropy.io import fits


hdu = fits.open("../spectra_luis/s27s07_1D_aberturaOIII.fits")


hdu.info()


hdu[0].header


# Wavelenght
nx, wav0, i0, dwav = [hdu[1].header[k] for k in ("NAXIS1", "CRVAL1", "CRPIX1", "CD1_1")]
wavs = wav0 + (np.arange(nx) - (i0 - 1)) * dwav
wavs


flux = hdu[1].data
flux


# Plotting
plt.figure(figsize=(10, 6))
plt.plot(wavs, flux, color='blue', linewidth=2)
plt.title('Example Spectrum')
plt.xlabel('Wavelength (nm)')
plt.ylabel('Intensity')
plt.grid(True)
plt.show()









