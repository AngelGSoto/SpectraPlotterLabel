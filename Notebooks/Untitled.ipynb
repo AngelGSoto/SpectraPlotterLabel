{
 "cells": [
  {
   "cell_type": "code",
   "execution_count": 24,
   "id": "feb3426d-1536-4cd8-a09c-5130bed631a4",
   "metadata": {},
   "outputs": [],
   "source": [
    "# Additional emission lines\n",
    "wv_lin = [3869.76, 3967.46, 4101.74, 4148.75, 4340.471, 4544, 4649.37, 4685, 4711.26, 4740.120, 4861.33, 4958.911, 5006.843, 5411.52, 6562.82, 6879, 7005.87, 7113.040, 7135, 7751, 8236.79, 8997.99]\n",
    "em_lin = [\n",
    "    \"[Ne III] 3869\",\n",
    "    \"[Ne III] + H7 3968\",\n",
    "    \"Hδ\",\n",
    "    \"Fe III 4149?\",\n",
    "    \"Hγ\",\n",
    "    \"Ne II 4544?\",\n",
    "    \"Ne II 4649?\",\n",
    "    \"He II 4685\",\n",
    "    \"[Ar IV] 4711\",\n",
    "    \"[Ar IV] 4740\",\n",
    "    \"Hβ\",\n",
    "    \"[O III] 4958\",\n",
    "    \"[O III] 5007\",\n",
    "    \"[Fe III] 5412 or He II 5412\",\n",
    "    \"Hα\",\n",
    "    \"? 6879\",\n",
    "    \"[Ar V] 7005\",\n",
    "    \"C II 7113?\",\n",
    "    \"[Ar III] 7135\",\n",
    "    \"[Ar III] 7751\",\n",
    "    \"He II 8236\",\n",
    "    \"He I 8997?\"\n",
    "]"
   ]
  },
  {
   "cell_type": "code",
   "execution_count": 25,
   "id": "a43e3f8c-0057-4a17-abd0-55ff2286dff6",
   "metadata": {},
   "outputs": [],
   "source": [
    "# Create the emission lines dictionary by merging lines from em_lin and wv_lin\n",
    "emission_lines = {}"
   ]
  },
  {
   "cell_type": "code",
   "execution_count": null,
   "id": "4fd6493b-d8af-4839-9af9-1662f6b0685e",
   "metadata": {},
   "outputs": [],
   "source": []
  },
  {
   "cell_type": "code",
   "execution_count": 29,
   "id": "136d4d3f-55e7-4cd5-9a3d-c39da4ece681",
   "metadata": {},
   "outputs": [],
   "source": [
    "# Function to extract wavelength from the label string\n",
    "def extract_label_and_wavelength(line):\n",
    "    # Splitting the line at the last space\n",
    "    index = line.rfind(' ')\n",
    "    if index != -1:\n",
    "        label = line[:index].strip()\n",
    "        wavelength = float(line[index+1:].replace('?', ''))\n",
    "        return label, wavelength\n",
    "    return None, None"
   ]
  },
  {
   "cell_type": "code",
   "execution_count": 30,
   "id": "6bd7177b-df26-4841-bee9-9f14a6d57094",
   "metadata": {},
   "outputs": [],
   "source": [
    "# Add lines from em_lin\n",
    "for line in em_lin:\n",
    "    # Extracting label and wavelength from the line\n",
    "    label, wavelength = extract_label_and_wavelength(line)\n",
    "    # If label and wavelength are found, add them to the dictionary\n",
    "    if label and wavelength:\n",
    "        emission_lines[label] = wavelength"
   ]
  },
  {
   "cell_type": "code",
   "execution_count": 31,
   "id": "b52caadb-5874-4768-bfff-63639cb95933",
   "metadata": {},
   "outputs": [],
   "source": [
    "# Add lines from wv_lin\n",
    "for wavelength in wv_lin:\n",
    "    label = f\"Custom {wavelength}\"  # Default label indicating it's a custom line\n",
    "    if wavelength not in emission_lines.values():\n",
    "        emission_lines[label] = wavelength"
   ]
  },
  {
   "cell_type": "code",
   "execution_count": 32,
   "id": "bca7cdb7-e074-4d67-97fa-f23642ed2c00",
   "metadata": {},
   "outputs": [
    {
     "name": "stdout",
     "output_type": "stream",
     "text": [
      "[Ne III]: 3869.0\n",
      "Custom 3869.76: 3869.76\n",
      "Custom 3967.46: 3967.46\n",
      "Custom 4101.74: 4101.74\n",
      "Custom 4148.75: 4148.75\n",
      "Custom 4340.471: 4340.471\n",
      "Custom 4544: 4544\n",
      "Custom 4649.37: 4649.37\n",
      "Custom 4685: 4685\n",
      "Custom 4711.26: 4711.26\n",
      "Custom 4740.12: 4740.12\n",
      "Custom 4861.33: 4861.33\n",
      "Custom 4958.911: 4958.911\n",
      "Custom 5006.843: 5006.843\n",
      "Custom 5411.52: 5411.52\n",
      "Custom 6562.82: 6562.82\n",
      "Custom 6879: 6879\n",
      "Custom 7005.87: 7005.87\n",
      "Custom 7113.04: 7113.04\n",
      "Custom 7135: 7135\n",
      "Custom 7751: 7751\n",
      "Custom 8236.79: 8236.79\n",
      "Custom 8997.99: 8997.99\n",
      "[Ne III] + H7: 3968.0\n",
      "Fe III: 4149.0\n",
      "Ne II: 4649.0\n",
      "He II: 8236.0\n",
      "[Ar IV]: 4740.0\n",
      "[O III]: 5007.0\n",
      "[Fe III] 5412 or He II: 5412.0\n",
      "?: 6879.0\n",
      "[Ar V]: 7005.0\n",
      "C II: 7113.0\n",
      "[Ar III]: 7751.0\n",
      "He I: 8997.0\n"
     ]
    }
   ],
   "source": [
    "# Printing the created emission lines dictionary\n",
    "for key, value in emission_lines.items():\n",
    "    print(f\"{key}: {value}\")"
   ]
  },
  {
   "cell_type": "code",
   "execution_count": null,
   "id": "17f05ae3-a8ec-4b75-9607-db6a894d125e",
   "metadata": {},
   "outputs": [],
   "source": []
  }
 ],
 "metadata": {
  "kernelspec": {
   "display_name": "Python 3 (ipykernel)",
   "language": "python",
   "name": "python3"
  },
  "language_info": {
   "codemirror_mode": {
    "name": "ipython",
    "version": 3
   },
   "file_extension": ".py",
   "mimetype": "text/x-python",
   "name": "python",
   "nbconvert_exporter": "python",
   "pygments_lexer": "ipython3",
   "version": "3.8.18"
  }
 },
 "nbformat": 4,
 "nbformat_minor": 5
}
